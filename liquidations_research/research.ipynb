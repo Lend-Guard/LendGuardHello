{
 "cells": [
  {
   "cell_type": "code",
   "execution_count": 1,
   "metadata": {},
   "outputs": [],
   "source": [
    "import requests\n",
    "import json\n",
    "\n",
    "import pandas as pd\n",
    "import matplotlib.pyplot as plt"
   ]
  },
  {
   "cell_type": "code",
   "execution_count": 14,
   "metadata": {},
   "outputs": [],
   "source": [
    "ETHERSCAN_API_TOKEN = ''"
   ]
  },
  {
   "cell_type": "code",
   "execution_count": 26,
   "metadata": {},
   "outputs": [],
   "source": [
    "class TokenBalanceStorage:\n",
    "\n",
    "    def __init__(self, api_key: str, user: str):\n",
    "        self.___api_key: str = api_key\n",
    "        self.user: str = user\n",
    "        self.tokens_data: dict = {}\n",
    "\n",
    "    def _transform_transactions_data(self, json_str: str) -> pd.DataFrame:\n",
    "        \"\"\"Transforms json string to pandas DataFrame.\"\"\"\n",
    "        res_df = pd.DataFrame(json.loads(json_str)['result'])\n",
    "        res_df = res_df.astype({\n",
    "            'blockNumber': 'int64',\n",
    "            'value': 'int64',\n",
    "            'tokenDecimal': 'int64',\n",
    "            'timeStamp': 'int64'\n",
    "        })\n",
    "        res_df['balance'] = res_df.value / (10 ** res_df.tokenDecimal)\n",
    "        res_df = res_df[['blockNumber','from','to','balance','timeStamp']]\n",
    "\n",
    "        # negative balance means that the transaction is a transfer from the address\n",
    "        # positive balance means that the transaction is a transfer to the address\n",
    "        res_df.loc[res_df['from'] == self.user.lower(), 'balance'] = -res_df['balance']\n",
    "\n",
    "        # sort by blockNumber and timeStamp\n",
    "        res_df.sort_values(['blockNumber', 'timeStamp'], inplace=True, ascending=False)\n",
    "        return res_df\n",
    "\n",
    "    def _get_user_transactions(self, token_address: str, user: str) -> pd.DataFrame:\n",
    "        \"\"\"Returns DataFrame with user transactions for specified token and chain.\"\"\"\n",
    "\n",
    "        start_block = 0\n",
    "        flag = True\n",
    "        total_df = pd.DataFrame()\n",
    "        \n",
    "        while flag:\n",
    "            url = f'https://api.arbiscan.io/api?module=account&action=tokentx&contractaddress={token_address}'+\\\n",
    "            f'&address={user}&page=1&offset=10000&startblock={start_block}&endblock=99999999&sort=asc&apikey={self.___api_key}'\n",
    "            res = requests.get(url)\n",
    "            print(res.json())\n",
    "            res_df = self._transform_transactions_data(res.text)\n",
    "            total_df = pd.concat([total_df, res_df])\n",
    "            \n",
    "            start_block = total_df.blockNumber.iloc[-1] + 1\n",
    "            \n",
    "            if len(res_df) < 10**4:\n",
    "                flag = False\n",
    "        \n",
    "        return total_df\n",
    "    \n",
    "    def get_token_balance_by_timestamp(self, token_address: str, timestamp: int) -> float:\n",
    "        \"\"\"Returns token balance for specified timestamp.\"\"\"\n",
    "        if token_address not in self.tokens_data:\n",
    "            self.tokens_data[token_address] = self._get_user_transactions(token_address, self.user)\n",
    "        return self.tokens_data[token_address][self.tokens_data[token_address]['timeStamp'] <= timestamp]['balance'].sum()\n"
   ]
  },
  {
   "cell_type": "code",
   "execution_count": 27,
   "metadata": {},
   "outputs": [],
   "source": [
    "storage = TokenBalanceStorage(api_key=ETHERSCAN_API_TOKEN, user='0xC99a75F23C50eAAB2595FF19Aa19caAB94a2659e')"
   ]
  },
  {
   "cell_type": "code",
   "execution_count": 29,
   "metadata": {},
   "outputs": [
    {
     "data": {
      "text/plain": [
       "48.955677"
      ]
     },
     "execution_count": 29,
     "metadata": {},
     "output_type": "execute_result"
    }
   ],
   "source": [
    "storage.get_token_balance_by_timestamp('0xaf88d065e77c8cC2239327C5EDb3A432268e5831', 1700364901-1)"
   ]
  },
  {
   "cell_type": "code",
   "execution_count": 30,
   "metadata": {},
   "outputs": [
    {
     "data": {
      "text/html": [
       "<div>\n",
       "<style scoped>\n",
       "    .dataframe tbody tr th:only-of-type {\n",
       "        vertical-align: middle;\n",
       "    }\n",
       "\n",
       "    .dataframe tbody tr th {\n",
       "        vertical-align: top;\n",
       "    }\n",
       "\n",
       "    .dataframe thead th {\n",
       "        text-align: right;\n",
       "    }\n",
       "</style>\n",
       "<table border=\"1\" class=\"dataframe\">\n",
       "  <thead>\n",
       "    <tr style=\"text-align: right;\">\n",
       "      <th></th>\n",
       "      <th>blockNumber</th>\n",
       "      <th>from</th>\n",
       "      <th>to</th>\n",
       "      <th>balance</th>\n",
       "      <th>timeStamp</th>\n",
       "    </tr>\n",
       "  </thead>\n",
       "  <tbody>\n",
       "    <tr>\n",
       "      <th>1</th>\n",
       "      <td>151844050</td>\n",
       "      <td>0xc99a75f23c50eaab2595ff19aa19caab94a2659e</td>\n",
       "      <td>0xd5fa4a76eb66daa09be734ce2ad5f70039b60dd3</td>\n",
       "      <td>-48.950000</td>\n",
       "      <td>1700364901</td>\n",
       "    </tr>\n",
       "    <tr>\n",
       "      <th>0</th>\n",
       "      <td>151841770</td>\n",
       "      <td>0x6f2b6796286b83ca46d4c4f19a3fae4f58ae11d1</td>\n",
       "      <td>0xc99a75f23c50eaab2595ff19aa19caab94a2659e</td>\n",
       "      <td>48.955677</td>\n",
       "      <td>1700364249</td>\n",
       "    </tr>\n",
       "  </tbody>\n",
       "</table>\n",
       "</div>"
      ],
      "text/plain": [
       "   blockNumber                                        from  \\\n",
       "1    151844050  0xc99a75f23c50eaab2595ff19aa19caab94a2659e   \n",
       "0    151841770  0x6f2b6796286b83ca46d4c4f19a3fae4f58ae11d1   \n",
       "\n",
       "                                           to    balance   timeStamp  \n",
       "1  0xd5fa4a76eb66daa09be734ce2ad5f70039b60dd3 -48.950000  1700364901  \n",
       "0  0xc99a75f23c50eaab2595ff19aa19caab94a2659e  48.955677  1700364249  "
      ]
     },
     "execution_count": 30,
     "metadata": {},
     "output_type": "execute_result"
    }
   ],
   "source": [
    "storage.tokens_data['0xaf88d065e77c8cC2239327C5EDb3A432268e5831']"
   ]
  },
  {
   "cell_type": "code",
   "execution_count": 32,
   "metadata": {},
   "outputs": [
    {
     "data": {
      "text/plain": [
       "{'errors': [{'locations': [{'column': 3, 'line': 3}],\n",
       "   'message': 'Type `Query` has no field `liquidates`'}]}"
      ]
     },
     "execution_count": 32,
     "metadata": {},
     "output_type": "execute_result"
    }
   ],
   "source": [
    "query =\\\n",
    "\"\"\"\n",
    "{\n",
    "  liquidates(orderBy: blockNumber) {\n",
    "    amountUSD\n",
    "    liquidatee {\n",
    "      id\n",
    "    }\n",
    "    hash\n",
    "  }\n",
    "}\n",
    "\"\"\"\n",
    "\n",
    "url = 'https://gateway.thegraph.com/api/api-key/subgraphs/id/84CvqQHYhydZzr2KSth8s1AFYpBRzUbVJXq6PWuZm9U9'\n",
    "\n",
    "response = requests.post(url, json={'query': query})\n",
    "data = json.loads(response.text)\n",
    "data"
   ]
  }
 ],
 "metadata": {
  "kernelspec": {
   "display_name": "Python 3",
   "language": "python",
   "name": "python3"
  },
  "language_info": {
   "codemirror_mode": {
    "name": "ipython",
    "version": 3
   },
   "file_extension": ".py",
   "mimetype": "text/x-python",
   "name": "python",
   "nbconvert_exporter": "python",
   "pygments_lexer": "ipython3",
   "version": "3.12.0"
  }
 },
 "nbformat": 4,
 "nbformat_minor": 2
}
